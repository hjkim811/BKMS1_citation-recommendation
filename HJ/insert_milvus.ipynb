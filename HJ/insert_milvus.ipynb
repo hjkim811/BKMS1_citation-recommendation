{
 "cells": [
  {
   "cell_type": "markdown",
   "id": "cccb1214",
   "metadata": {},
   "source": [
    "## Notes\n",
    "- 215서버 가상환경 bkms에서 작업"
   ]
  },
  {
   "cell_type": "code",
   "execution_count": 1,
   "id": "d8a22cce",
   "metadata": {},
   "outputs": [],
   "source": [
    "import pandas as pd\n",
    "import numpy as np\n",
    "import nltk\n",
    "from nltk import word_tokenize, sent_tokenize\n",
    "import torch\n",
    "from torch.nn.functional import normalize\n",
    "from tqdm.notebook import tqdm\n",
    "import psycopg2\n",
    "import psycopg2.extras as extras"
   ]
  },
  {
   "cell_type": "markdown",
   "id": "65beebeb",
   "metadata": {},
   "source": [
    "## Load"
   ]
  },
  {
   "cell_type": "code",
   "execution_count": 2,
   "id": "add1cd9a",
   "metadata": {},
   "outputs": [
    {
     "name": "stdout",
     "output_type": "stream",
     "text": [
      "CPU times: user 728 µs, sys: 356 ms, total: 357 ms\n",
      "Wall time: 356 ms\n"
     ]
    }
   ],
   "source": [
    "%%time\n",
    "# Abstract Embedding 로드\n",
    "emb = np.load('abstract_embedding.npy')"
   ]
  },
  {
   "cell_type": "code",
   "execution_count": 4,
   "id": "4f0cde96",
   "metadata": {},
   "outputs": [
    {
     "data": {
      "text/plain": [
       "(644800, 768)"
      ]
     },
     "execution_count": 4,
     "metadata": {},
     "output_type": "execute_result"
    }
   ],
   "source": [
    "emb.shape"
   ]
  },
  {
   "cell_type": "code",
   "execution_count": 3,
   "id": "14ffa7d4",
   "metadata": {},
   "outputs": [
    {
     "name": "stdout",
     "output_type": "stream",
     "text": [
      "CPU times: user 14.7 s, sys: 4.42 s, total: 19.1 s\n",
      "Wall time: 18.9 s\n"
     ]
    }
   ],
   "source": [
    "%%time\n",
    "emb_list = emb.tolist()"
   ]
  },
  {
   "cell_type": "code",
   "execution_count": 6,
   "id": "0310f8d9",
   "metadata": {},
   "outputs": [
    {
     "data": {
      "text/plain": [
       "644800"
      ]
     },
     "execution_count": 6,
     "metadata": {},
     "output_type": "execute_result"
    }
   ],
   "source": [
    "len(emb_list)"
   ]
  },
  {
   "cell_type": "code",
   "execution_count": 4,
   "id": "fe89fd69",
   "metadata": {},
   "outputs": [
    {
     "name": "stderr",
     "output_type": "stream",
     "text": [
      "<timed exec>:9: UserWarning: pandas only supports SQLAlchemy connectable (engine/connection) or database string URI or sqlite3 DBAPI2 connection. Other DBAPI2 objects are not tested. Please consider using SQLAlchemy.\n"
     ]
    },
    {
     "name": "stdout",
     "output_type": "stream",
     "text": [
      "CPU times: user 1.89 s, sys: 1.29 s, total: 3.18 s\n",
      "Wall time: 11.7 s\n"
     ]
    }
   ],
   "source": [
    "%%time\n",
    "# df 로드\n",
    "\n",
    "# server table 확인\n",
    "connection_info = \"host=147.47.200.145 dbname=teamdb16 user=team16 password=qwer16 port=34543\"\n",
    "conn = psycopg2.connect(connection_info)\n",
    "\n",
    "try:\n",
    "    # 테이블을 Pandas.Dataframe으로 추출\n",
    "    server_df = pd.read_sql('SELECT * FROM citation_data',conn)\n",
    "\n",
    "except psycopg2.Error as e:\n",
    "    # 데이터베이스 에러 처리\n",
    "    print(\"DB error: \", e)\n",
    "    \n",
    "finally:\n",
    "    # 데이터베이스 연결 해제 필수!!\n",
    "    conn.close()"
   ]
  },
  {
   "cell_type": "markdown",
   "id": "e853755d",
   "metadata": {},
   "source": [
    "## DF + Embedding 합치기"
   ]
  },
  {
   "cell_type": "code",
   "execution_count": 5,
   "id": "927d6ca8",
   "metadata": {},
   "outputs": [],
   "source": [
    "server_df['embedding'] = emb_list"
   ]
  },
  {
   "cell_type": "code",
   "execution_count": 6,
   "id": "0630e0db",
   "metadata": {},
   "outputs": [],
   "source": [
    "df = server_df[['id', 'embedding']]"
   ]
  },
  {
   "cell_type": "code",
   "execution_count": 7,
   "id": "9649aeca",
   "metadata": {},
   "outputs": [
    {
     "data": {
      "text/html": [
       "<div>\n",
       "<style scoped>\n",
       "    .dataframe tbody tr th:only-of-type {\n",
       "        vertical-align: middle;\n",
       "    }\n",
       "\n",
       "    .dataframe tbody tr th {\n",
       "        vertical-align: top;\n",
       "    }\n",
       "\n",
       "    .dataframe thead th {\n",
       "        text-align: right;\n",
       "    }\n",
       "</style>\n",
       "<table border=\"1\" class=\"dataframe\">\n",
       "  <thead>\n",
       "    <tr style=\"text-align: right;\">\n",
       "      <th></th>\n",
       "      <th>id</th>\n",
       "      <th>embedding</th>\n",
       "    </tr>\n",
       "  </thead>\n",
       "  <tbody>\n",
       "    <tr>\n",
       "      <th>0</th>\n",
       "      <td>55323df545cec66b6f9e0cd9</td>\n",
       "      <td>[0.03598175197839737, -0.0326111875474453, 0.0...</td>\n",
       "    </tr>\n",
       "    <tr>\n",
       "      <th>1</th>\n",
       "      <td>55323df545cec66b6f9e0ce2</td>\n",
       "      <td>[0.04400291666388512, -0.004605427850037813, 0...</td>\n",
       "    </tr>\n",
       "    <tr>\n",
       "      <th>2</th>\n",
       "      <td>55323df845cec66b6f9e0dfd</td>\n",
       "      <td>[0.004515576176345348, -0.012031725607812405, ...</td>\n",
       "    </tr>\n",
       "    <tr>\n",
       "      <th>3</th>\n",
       "      <td>55323df845cec66b6f9e0e0d</td>\n",
       "      <td>[0.0014496600488200784, -0.05030417442321777, ...</td>\n",
       "    </tr>\n",
       "    <tr>\n",
       "      <th>4</th>\n",
       "      <td>55323dfa45cec66b6f9e0e97</td>\n",
       "      <td>[0.03331814706325531, -0.014083134941756725, 0...</td>\n",
       "    </tr>\n",
       "  </tbody>\n",
       "</table>\n",
       "</div>"
      ],
      "text/plain": [
       "                         id                                          embedding\n",
       "0  55323df545cec66b6f9e0cd9  [0.03598175197839737, -0.0326111875474453, 0.0...\n",
       "1  55323df545cec66b6f9e0ce2  [0.04400291666388512, -0.004605427850037813, 0...\n",
       "2  55323df845cec66b6f9e0dfd  [0.004515576176345348, -0.012031725607812405, ...\n",
       "3  55323df845cec66b6f9e0e0d  [0.0014496600488200784, -0.05030417442321777, ...\n",
       "4  55323dfa45cec66b6f9e0e97  [0.03331814706325531, -0.014083134941756725, 0..."
      ]
     },
     "execution_count": 7,
     "metadata": {},
     "output_type": "execute_result"
    }
   ],
   "source": [
    "df.head()"
   ]
  },
  {
   "cell_type": "markdown",
   "id": "a4affa1d",
   "metadata": {},
   "source": [
    "## FOS가 Database인 row만 추출"
   ]
  },
  {
   "cell_type": "code",
   "execution_count": 8,
   "id": "d0edf3cc",
   "metadata": {},
   "outputs": [
    {
     "data": {
      "text/html": [
       "<div>\n",
       "<style scoped>\n",
       "    .dataframe tbody tr th:only-of-type {\n",
       "        vertical-align: middle;\n",
       "    }\n",
       "\n",
       "    .dataframe tbody tr th {\n",
       "        vertical-align: top;\n",
       "    }\n",
       "\n",
       "    .dataframe thead th {\n",
       "        text-align: right;\n",
       "    }\n",
       "</style>\n",
       "<table border=\"1\" class=\"dataframe\">\n",
       "  <thead>\n",
       "    <tr style=\"text-align: right;\">\n",
       "      <th></th>\n",
       "      <th>id</th>\n",
       "      <th>embedding</th>\n",
       "    </tr>\n",
       "  </thead>\n",
       "  <tbody>\n",
       "    <tr>\n",
       "      <th>81475</th>\n",
       "      <td>53e99bc0b7602d970246566f</td>\n",
       "      <td>[0.033884674310684204, -0.013931008987128735, ...</td>\n",
       "    </tr>\n",
       "    <tr>\n",
       "      <th>81476</th>\n",
       "      <td>53e9a0aeb7602d9702998956</td>\n",
       "      <td>[-0.005794344004243612, -0.01751815341413021, ...</td>\n",
       "    </tr>\n",
       "    <tr>\n",
       "      <th>81477</th>\n",
       "      <td>53e9a32eb7602d9702c3b5f2</td>\n",
       "      <td>[0.042893629521131516, 0.02281208708882332, 0....</td>\n",
       "    </tr>\n",
       "    <tr>\n",
       "      <th>81478</th>\n",
       "      <td>53e9a5e2b7602d9702f0f666</td>\n",
       "      <td>[0.04637527838349342, -0.04265362024307251, 0....</td>\n",
       "    </tr>\n",
       "    <tr>\n",
       "      <th>81479</th>\n",
       "      <td>53e9a64ab7602d9702f773e2</td>\n",
       "      <td>[0.02971530146896839, -0.027375876903533936, 0...</td>\n",
       "    </tr>\n",
       "    <tr>\n",
       "      <th>...</th>\n",
       "      <td>...</td>\n",
       "      <td>...</td>\n",
       "    </tr>\n",
       "    <tr>\n",
       "      <th>101282</th>\n",
       "      <td>5e56424393d709897ccf850c</td>\n",
       "      <td>[-0.01572621427476406, -0.028321608901023865, ...</td>\n",
       "    </tr>\n",
       "    <tr>\n",
       "      <th>101284</th>\n",
       "      <td>5e5e190b93d709897ce49b5e</td>\n",
       "      <td>[0.031522300094366074, -0.012752724811434746, ...</td>\n",
       "    </tr>\n",
       "    <tr>\n",
       "      <th>101285</th>\n",
       "      <td>5e67652c91e011e07454bac1</td>\n",
       "      <td>[0.0552104115486145, 0.0031533159781247377, 0....</td>\n",
       "    </tr>\n",
       "    <tr>\n",
       "      <th>101286</th>\n",
       "      <td>5e68b99d91e0115a6fd942b7</td>\n",
       "      <td>[-0.02662317454814911, -0.024163400754332542, ...</td>\n",
       "    </tr>\n",
       "    <tr>\n",
       "      <th>101287</th>\n",
       "      <td>5e7234dc93d709897cfd5d99</td>\n",
       "      <td>[0.02612539567053318, -0.0324007123708725, 0.0...</td>\n",
       "    </tr>\n",
       "  </tbody>\n",
       "</table>\n",
       "<p>19791 rows × 2 columns</p>\n",
       "</div>"
      ],
      "text/plain": [
       "                              id   \n",
       "81475   53e99bc0b7602d970246566f  \\\n",
       "81476   53e9a0aeb7602d9702998956   \n",
       "81477   53e9a32eb7602d9702c3b5f2   \n",
       "81478   53e9a5e2b7602d9702f0f666   \n",
       "81479   53e9a64ab7602d9702f773e2   \n",
       "...                          ...   \n",
       "101282  5e56424393d709897ccf850c   \n",
       "101284  5e5e190b93d709897ce49b5e   \n",
       "101285  5e67652c91e011e07454bac1   \n",
       "101286  5e68b99d91e0115a6fd942b7   \n",
       "101287  5e7234dc93d709897cfd5d99   \n",
       "\n",
       "                                                embedding  \n",
       "81475   [0.033884674310684204, -0.013931008987128735, ...  \n",
       "81476   [-0.005794344004243612, -0.01751815341413021, ...  \n",
       "81477   [0.042893629521131516, 0.02281208708882332, 0....  \n",
       "81478   [0.04637527838349342, -0.04265362024307251, 0....  \n",
       "81479   [0.02971530146896839, -0.027375876903533936, 0...  \n",
       "...                                                   ...  \n",
       "101282  [-0.01572621427476406, -0.028321608901023865, ...  \n",
       "101284  [0.031522300094366074, -0.012752724811434746, ...  \n",
       "101285  [0.0552104115486145, 0.0031533159781247377, 0....  \n",
       "101286  [-0.02662317454814911, -0.024163400754332542, ...  \n",
       "101287  [0.02612539567053318, -0.0324007123708725, 0.0...  \n",
       "\n",
       "[19791 rows x 2 columns]"
      ]
     },
     "execution_count": 8,
     "metadata": {},
     "output_type": "execute_result"
    }
   ],
   "source": [
    "df_db = df[server_df['fos']=='Database']\n",
    "df_db"
   ]
  },
  {
   "cell_type": "markdown",
   "id": "6e2c7e82",
   "metadata": {},
   "source": [
    "## FOS가 Machine learning인 row만 추출 (20000개 샘플링)"
   ]
  },
  {
   "cell_type": "code",
   "execution_count": 9,
   "id": "453cab36",
   "metadata": {},
   "outputs": [
    {
     "data": {
      "text/html": [
       "<div>\n",
       "<style scoped>\n",
       "    .dataframe tbody tr th:only-of-type {\n",
       "        vertical-align: middle;\n",
       "    }\n",
       "\n",
       "    .dataframe tbody tr th {\n",
       "        vertical-align: top;\n",
       "    }\n",
       "\n",
       "    .dataframe thead th {\n",
       "        text-align: right;\n",
       "    }\n",
       "</style>\n",
       "<table border=\"1\" class=\"dataframe\">\n",
       "  <thead>\n",
       "    <tr style=\"text-align: right;\">\n",
       "      <th></th>\n",
       "      <th>id</th>\n",
       "      <th>embedding</th>\n",
       "    </tr>\n",
       "  </thead>\n",
       "  <tbody>\n",
       "    <tr>\n",
       "      <th>309493</th>\n",
       "      <td>53e9a69fb7602d9702fd2ba2</td>\n",
       "      <td>[0.006964611820876598, 0.04274142161011696, 0....</td>\n",
       "    </tr>\n",
       "    <tr>\n",
       "      <th>389858</th>\n",
       "      <td>5bdc316717c44a1f58a06f35</td>\n",
       "      <td>[-0.0011072474298998713, -0.020074525848031044...</td>\n",
       "    </tr>\n",
       "    <tr>\n",
       "      <th>384300</th>\n",
       "      <td>5a4aef9017c44a2190f79790</td>\n",
       "      <td>[0.04698636010289192, 0.043299369513988495, 0....</td>\n",
       "    </tr>\n",
       "    <tr>\n",
       "      <th>393082</th>\n",
       "      <td>5c790c78f56def97985832e2</td>\n",
       "      <td>[0.06247767433524132, 0.04102949798107147, 0.0...</td>\n",
       "    </tr>\n",
       "    <tr>\n",
       "      <th>396894</th>\n",
       "      <td>5decef723a55ac3b267b6df8</td>\n",
       "      <td>[-0.016124337911605835, -0.004462655168026686,...</td>\n",
       "    </tr>\n",
       "    <tr>\n",
       "      <th>...</th>\n",
       "      <td>...</td>\n",
       "      <td>...</td>\n",
       "    </tr>\n",
       "    <tr>\n",
       "      <th>297057</th>\n",
       "      <td>53e99e7fb7602d9702743649</td>\n",
       "      <td>[0.008742188103497028, -0.02152179554104805, 0...</td>\n",
       "    </tr>\n",
       "    <tr>\n",
       "      <th>393493</th>\n",
       "      <td>5c8746794895d9cbc6f9bdfd</td>\n",
       "      <td>[0.029180074110627174, 0.01242499053478241, 0....</td>\n",
       "    </tr>\n",
       "    <tr>\n",
       "      <th>358436</th>\n",
       "      <td>558b1bd1e4b031bae1fb8a03</td>\n",
       "      <td>[0.018051421269774437, -0.003930770326405764, ...</td>\n",
       "    </tr>\n",
       "    <tr>\n",
       "      <th>293015</th>\n",
       "      <td>53e99bfeb7602d97024a7d0e</td>\n",
       "      <td>[0.023785250261425972, -0.007056978065520525, ...</td>\n",
       "    </tr>\n",
       "    <tr>\n",
       "      <th>331083</th>\n",
       "      <td>53e9b43db7602d9703f34be6</td>\n",
       "      <td>[-0.01591166853904724, -0.04999348521232605, 0...</td>\n",
       "    </tr>\n",
       "  </tbody>\n",
       "</table>\n",
       "<p>20000 rows × 2 columns</p>\n",
       "</div>"
      ],
      "text/plain": [
       "                              id   \n",
       "309493  53e9a69fb7602d9702fd2ba2  \\\n",
       "389858  5bdc316717c44a1f58a06f35   \n",
       "384300  5a4aef9017c44a2190f79790   \n",
       "393082  5c790c78f56def97985832e2   \n",
       "396894  5decef723a55ac3b267b6df8   \n",
       "...                          ...   \n",
       "297057  53e99e7fb7602d9702743649   \n",
       "393493  5c8746794895d9cbc6f9bdfd   \n",
       "358436  558b1bd1e4b031bae1fb8a03   \n",
       "293015  53e99bfeb7602d97024a7d0e   \n",
       "331083  53e9b43db7602d9703f34be6   \n",
       "\n",
       "                                                embedding  \n",
       "309493  [0.006964611820876598, 0.04274142161011696, 0....  \n",
       "389858  [-0.0011072474298998713, -0.020074525848031044...  \n",
       "384300  [0.04698636010289192, 0.043299369513988495, 0....  \n",
       "393082  [0.06247767433524132, 0.04102949798107147, 0.0...  \n",
       "396894  [-0.016124337911605835, -0.004462655168026686,...  \n",
       "...                                                   ...  \n",
       "297057  [0.008742188103497028, -0.02152179554104805, 0...  \n",
       "393493  [0.029180074110627174, 0.01242499053478241, 0....  \n",
       "358436  [0.018051421269774437, -0.003930770326405764, ...  \n",
       "293015  [0.023785250261425972, -0.007056978065520525, ...  \n",
       "331083  [-0.01591166853904724, -0.04999348521232605, 0...  \n",
       "\n",
       "[20000 rows x 2 columns]"
      ]
     },
     "execution_count": 9,
     "metadata": {},
     "output_type": "execute_result"
    }
   ],
   "source": [
    "df_ml = df[server_df['fos']=='Machine learning'].sample(n=20000, random_state=42)\n",
    "df_ml"
   ]
  },
  {
   "cell_type": "markdown",
   "id": "f7302956",
   "metadata": {},
   "source": [
    "## Milvus"
   ]
  },
  {
   "cell_type": "code",
   "execution_count": 17,
   "id": "7c384c84",
   "metadata": {},
   "outputs": [],
   "source": [
    "from pymilvus import connections, FieldSchema, CollectionSchema, DataType, Collection, utility\n",
    "\n",
    "# Global\n",
    "TOP_K = 3\n",
    "COLLECTION_NAME = 'team16_project_db'\n",
    "\n",
    "def create_collection(collection_name, dim):\n",
    "    if utility.has_collection(collection_name):\n",
    "        utility.drop_collection(collection_name)\n",
    "    \n",
    "    fields = [\n",
    "    FieldSchema(name='id', dtype=DataType.VARCHAR, descrition='ids', max_length=500, is_primary=True, auto_id=False),\n",
    "    FieldSchema(name='embedding', dtype=DataType.FLOAT_VECTOR, description='embedding vectors', dim=dim)\n",
    "    ]\n",
    "    schema = CollectionSchema(fields=fields, description='Team 16 Project')\n",
    "    collection = Collection(name=collection_name, schema=schema)\n",
    "\n",
    "    # create IVF_FLAT index for collection.\n",
    "    index_params = {\n",
    "        'metric_type':'L2',\n",
    "        'index_type':\"IVF_FLAT\",\n",
    "        'params':{\"nlist\":2048}\n",
    "    }\n",
    "    collection.create_index(field_name=\"embedding\", index_params=index_params)\n",
    "    \n",
    "    print(\"\\ncollection created:\", collection_name)\n",
    "    return collection\n",
    "\n",
    "def search(collection, search_vectors, top_k=3):\n",
    "    search_param = {\n",
    "        \"data\": search_vectors,\n",
    "        \"anns_field\": 'embedding',\n",
    "        \"param\": {\"metric_type\": 'L2', \"params\": {\"nprobe\": 16}},\n",
    "        \"limit\": top_k}\n",
    "    results = collection.search(**search_param)\n",
    "    result_id = [res.id for res in results[0]]\n",
    "    result_dis = [res.distance for res in results[0]]\n",
    "\n",
    "    return result_id, result_dis"
   ]
  },
  {
   "cell_type": "code",
   "execution_count": 11,
   "id": "75f82905",
   "metadata": {},
   "outputs": [],
   "source": [
    "def has_collection(name):\n",
    "    return utility.has_collection(name)\n",
    "\n",
    "def load_collection(collection):\n",
    "    collection.load()\n",
    "\n",
    "def release_collection(collection):\n",
    "    collection.release()\n",
    "\n",
    "# Drop a collection in Milvus\n",
    "def drop_collection(name):\n",
    "    collection = Collection(name)\n",
    "    collection.drop()\n",
    "    print(\"\\nDrop collection: {}\".format(name))\n",
    "    \n",
    "def drop_index(collection):\n",
    "    collection.drop_index()\n",
    "    print(\"\\nDrop index sucessfully\")\n",
    "    \n",
    "# List all collections in Milvus\n",
    "def list_collections():\n",
    "    print(\"\\nlist collections:\")\n",
    "    print(utility.list_collections())\n",
    "    \n",
    "def get_entity_num(collection):\n",
    "    print(\"\\nThe number of entity:\")\n",
    "    print(collection.num_entities)\n",
    "    \n",
    "def set_properties(collection):\n",
    "    collection.set_properties(properties={\"collection.ttl.seconds\": 1800})"
   ]
  },
  {
   "cell_type": "code",
   "execution_count": 12,
   "id": "dd4492c8",
   "metadata": {},
   "outputs": [],
   "source": [
    "# Milvus 서버랑 연결\n",
    "connections.connect(host='147.47.200.145', port='39530')"
   ]
  },
  {
   "cell_type": "code",
   "execution_count": 18,
   "id": "7a6858b7",
   "metadata": {},
   "outputs": [
    {
     "name": "stdout",
     "output_type": "stream",
     "text": [
      "\n",
      "collection created: team16_project_db\n"
     ]
    }
   ],
   "source": [
    "# drop collection if the collection exists\n",
    "if has_collection(COLLECTION_NAME):\n",
    "    drop_collection(COLLECTION_NAME)\n",
    "    \n",
    "# create collection\n",
    "collection = create_collection(COLLECTION_NAME, 768)\n",
    "\n",
    "# alter ttl properties of collection level\n",
    "set_properties(collection)"
   ]
  },
  {
   "cell_type": "code",
   "execution_count": 19,
   "id": "ea90a988",
   "metadata": {},
   "outputs": [
    {
     "name": "stdout",
     "output_type": "stream",
     "text": [
      "CPU times: user 2.87 s, sys: 6.19 ms, total: 2.88 s\n",
      "Wall time: 4.74 s\n"
     ]
    },
    {
     "data": {
      "text/plain": [
       "(insert count: 19791, delete count: 0, upsert count: 0, timestamp: 441962994957549571, success count: 19791, err count: 0)"
      ]
     },
     "execution_count": 19,
     "metadata": {},
     "output_type": "execute_result"
    }
   ],
   "source": [
    "%%time\n",
    "# insert data \n",
    "# 한 번에 20000 row 이상 하면 RESOURCE_EXHAUSTED 에러 남\n",
    "collection.insert(df_db)"
   ]
  },
  {
   "cell_type": "code",
   "execution_count": 20,
   "id": "0bb59fd8",
   "metadata": {},
   "outputs": [
    {
     "name": "stdout",
     "output_type": "stream",
     "text": [
      "\n",
      "The number of entity:\n",
      "19791\n",
      "CPU times: user 4.85 ms, sys: 726 µs, total: 5.58 ms\n",
      "Wall time: 713 ms\n"
     ]
    }
   ],
   "source": [
    "%%time\n",
    "# flush collection from memory\n",
    "collection.flush()\n",
    "# get the number of entities\n",
    "get_entity_num(collection)"
   ]
  },
  {
   "cell_type": "code",
   "execution_count": 22,
   "id": "3013a2f6",
   "metadata": {},
   "outputs": [
    {
     "name": "stdout",
     "output_type": "stream",
     "text": [
      "\n",
      "list collections:\n",
      "['team16_project', 'team16_project_ml', 'team16_project_db']\n"
     ]
    }
   ],
   "source": [
    "list_collections()"
   ]
  }
 ],
 "metadata": {
  "kernelspec": {
   "display_name": "Python [conda env:bkms] *",
   "language": "python",
   "name": "conda-env-bkms-py"
  },
  "language_info": {
   "codemirror_mode": {
    "name": "ipython",
    "version": 3
   },
   "file_extension": ".py",
   "mimetype": "text/x-python",
   "name": "python",
   "nbconvert_exporter": "python",
   "pygments_lexer": "ipython3",
   "version": "3.8.16"
  }
 },
 "nbformat": 4,
 "nbformat_minor": 5
}
