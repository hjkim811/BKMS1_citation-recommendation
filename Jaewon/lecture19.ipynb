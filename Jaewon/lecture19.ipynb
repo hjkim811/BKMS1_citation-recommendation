{
 "cells": [
  {
   "cell_type": "markdown",
   "metadata": {
    "id": "f5elsglwzl7D"
   },
   "source": [
    "# Python-DB 연결 실습"
   ]
  },
  {
   "cell_type": "markdown",
   "metadata": {
    "id": "GME9t0S-zpB5"
   },
   "source": [
    "## Pandas 튜토리얼\n",
    "\n",
    "- [pandas Getting started tutorials](https://pandas.pydata.org/docs/getting_started/intro_tutorials/index.html)"
   ]
  },
  {
   "cell_type": "code",
   "execution_count": null,
   "metadata": {
    "id": "8H30EcPS0O9d"
   },
   "outputs": [],
   "source": [
    "# pandas 라이브러리 import\n",
    "import pandas as pd"
   ]
  },
  {
   "cell_type": "markdown",
   "metadata": {
    "id": "vRBzf9Tm2H7f"
   },
   "source": [
    "### Pandas read_csv()\n",
    "Lecture_14_data.zip 에 있는 orders.csv 파일을 이용하여 pandas로 csv 파일을 읽습니다.\n",
    "\n",
    "Google Colab을 사용하시는 분들은 왼쪽 메뉴 중 파일 메뉴에 orders.csv 파일을 업로드하시면 되고,\n",
    "\n",
    "Jupyter Notebook을 사용하시는 분들은 orders.csv 파일을 실습 파일과 같은 폴더에 넣으시면 됩니다.\n",
    "\n",
    "- [read_csv documentation](https://pandas.pydata.org/docs/reference/api/pandas.read_csv.html)\n"
   ]
  },
  {
   "cell_type": "code",
   "execution_count": null,
   "metadata": {
    "id": "7gmkt7Nh3A_n"
   },
   "outputs": [],
   "source": [
    "df_csv = pd.read_csv('orders.csv')"
   ]
  },
  {
   "cell_type": "code",
   "execution_count": null,
   "metadata": {
    "id": "PGfech5i33rK"
   },
   "outputs": [],
   "source": [
    "#df_csv 파일 확인\n",
    "df_csv"
   ]
  },
  {
   "cell_type": "markdown",
   "metadata": {
    "id": "irxgpT120XWj"
   },
   "source": [
    "## BigQuery 연결 실습\n",
    "\n",
    "pandas-gbq를 사용하여 Google BigQuery와 연결합니다.\n",
    "- [Documentation](https://pandas-gbq.readthedocs.io/en/latest/)"
   ]
  },
  {
   "cell_type": "code",
   "execution_count": null,
   "metadata": {
    "id": "txDOxIdV0141"
   },
   "outputs": [],
   "source": [
    "# Local Jupyter Notebook을 사용하시는 분들은 아래 코드를 uncomment하여 pandas-gbq를 설치하셔야합니다.\n",
    "\n",
    "# !pip install pandas-gbq"
   ]
  },
  {
   "cell_type": "code",
   "execution_count": null,
   "metadata": {
    "id": "GXM8p77zndos"
   },
   "outputs": [],
   "source": [
    "# gbq import\n",
    "from pandas.io import gbq"
   ]
  },
  {
   "cell_type": "markdown",
   "metadata": {
    "id": "U3jxdoQw1crN"
   },
   "source": [
    "아래 코드를 수정 후 실행하면, 계정 인증 후 authorization code를 복사하여 붙여넣을 수 있습니다."
   ]
  },
  {
   "cell_type": "code",
   "execution_count": null,
   "metadata": {
    "id": "Pf_hIasmnfdm"
   },
   "outputs": [],
   "source": [
    "import pydata_google_auth\n",
    "\n",
    "SCOPES = [\n",
    "    'https://www.googleapis.com/auth/cloud-platform',\n",
    "    'https://www.googleapis.com/auth/bigquery'\n",
    "]\n",
    "\n",
    "credentials = pydata_google_auth.get_user_credentials(\n",
    "  SCOPES, auth_local_webserver=False)\n",
    "\n",
    "# SQL을 사용하여 프로젝트에서 데이터를 조회 후 pandas dataframe에 입력\n",
    "\n",
    "sql = \"SELECT * FROM census.input_view\" # Lecture 18에서 생성한 input_view 활용\n",
    "project_id = \"본인의 프로젝트 ID\"\n",
    "\n",
    "df = pd.read_gbq(sql, project_id=project_id, credentials=credentials, dialect='standard')"
   ]
  },
  {
   "cell_type": "markdown",
   "metadata": {
    "id": "7gJWf0Ln1w5b"
   },
   "source": [
    "Import된 dataframe 확인"
   ]
  },
  {
   "cell_type": "code",
   "execution_count": null,
   "metadata": {
    "id": "Av25MRQCnwZd"
   },
   "outputs": [],
   "source": [
    "df"
   ]
  },
  {
   "cell_type": "markdown",
   "metadata": {
    "id": "CkDq_u084JLv"
   },
   "source": [
    "참고) pandas dataframe을 BigQuery에 업로드할 수 있습니다. (**billing 설정시에만 가능**)"
   ]
  },
  {
   "cell_type": "code",
   "execution_count": null,
   "metadata": {
    "id": "WbcxkEG04Rhk"
   },
   "outputs": [],
   "source": [
    "df_csv.to_gbq(destination_table='데이터셋명.테이블명',\n",
    "\t\t  project_id='프로젝트 ID',\n",
    "\t\t  if_exists='replace')"
   ]
  },
  {
   "cell_type": "markdown",
   "metadata": {
    "id": "CpPW5OD746fE"
   },
   "source": [
    "## PostgreSQL Server 연결 실습\n",
    "psycopg2를 사용하여 PostgreSQL server와 연결합니다.\n",
    "\n",
    "우선, psycopg2를 설치해야합니다."
   ]
  },
  {
   "cell_type": "code",
   "execution_count": null,
   "metadata": {
    "id": "kCCEVKvi1R3V"
   },
   "outputs": [],
   "source": [
    "!pip install psycopg2-binary"
   ]
  },
  {
   "cell_type": "markdown",
   "metadata": {
    "id": "LIKW6RPD5NCK"
   },
   "source": [
    "설치가 완료되면, 아래 코드를 사용해 연결 설정을 해주세요."
   ]
  },
  {
   "cell_type": "code",
   "execution_count": null,
   "metadata": {
    "id": "L3a0C0hs12QE"
   },
   "outputs": [],
   "source": [
    "# psycopg2 import\n",
    "import psycopg2\n",
    "\n",
    "# 연결정보 입력\n",
    "connection_info = \"host=147.47.200.145 dbname=<팀데이터베이스명> user=<팀유저명> password=<팀패스워드> port=34543\""
   ]
  },
  {
   "cell_type": "markdown",
   "metadata": {
    "id": "u3qyL7y750Zc"
   },
   "source": [
    "DBeaver에 exercise2_data.txt의 쿼리를 사용하여 PostgreSQL 팀 데이터베이스에 테이블을 생성하고, (**팀당 한 명만**)\n",
    "\n",
    "아래 코드를 사용해 PostgreSQL에 연결해 데이터를 읽어옵니다."
   ]
  },
  {
   "cell_type": "code",
   "execution_count": null,
   "metadata": {
    "id": "2HPnDKSX1--N"
   },
   "outputs": [],
   "source": [
    "# PostgreSQL 연결\n",
    "conn = psycopg2.connect(connection_info)\n",
    "\n",
    "try:\n",
    "    # 테이블을 Pandas.Dataframe으로 추출\n",
    "    df = pd.read_sql('SELECT * FROM researchers ORDER BY rid ',conn)\n",
    "\n",
    "except psycopg2.Error as e:\n",
    "    # 데이터베이스 에러 처리\n",
    "    print(\"DB error: \", e)\n",
    "    \n",
    "finally:\n",
    "    # 데이터베이스 연결 해제 필수!!\n",
    "    conn.close()"
   ]
  },
  {
   "cell_type": "code",
   "execution_count": null,
   "metadata": {
    "id": "JfH4PA1N2ML1"
   },
   "outputs": [],
   "source": [
    "# 데이터 확인\n",
    "df"
   ]
  },
  {
   "cell_type": "markdown",
   "metadata": {
    "id": "zB8jC8uj637b"
   },
   "source": [
    "### 트랜잭션 쿼리 수행\n",
    "\n",
    "만약 테이블이나 값을 변경하는 쿼리를 수행했을경우, commit을 해줘야 변경사항이 데이터베이스에 반영됩니다.\n"
   ]
  },
  {
   "cell_type": "code",
   "execution_count": null,
   "metadata": {
    "id": "VJoJSAL662oz"
   },
   "outputs": [],
   "source": [
    "# PostgreSQL 연결\n",
    "conn = psycopg2.connect(connection_info)\n",
    "\n",
    "try:\n",
    "    # 커서(Cursor) 생성\n",
    "    # 커서: 명령문(SQL) 실행, 결과의 현재 위치 표시\n",
    "    cursor = conn.cursor()\n",
    "    \n",
    "    # 값 변경 쿼리\n",
    "    cursor.execute(\"UPDATE public.researchers set lab = 'BKMS' WHERE rid = 1;\")\n",
    "    \n",
    "    # 트랜잭션 커밋 - 데이터베이스에 업데이트를 반영\n",
    "    conn.commit()\n",
    "\n",
    "except psycopg2.Error as e:\n",
    "    # 데이터베이스 에러 처리\n",
    "    print(\"DB error: \", e)\n",
    "    # 롤백- 최근 커밋 이후의 transaction들을 모두 취소\n",
    "    conn.rollback()\n",
    "    \n",
    "finally:\n",
    "    # 데이터베이스 연결 해제 필수!!\n",
    "    conn.close()"
   ]
  },
  {
   "cell_type": "code",
   "execution_count": null,
   "metadata": {
    "id": "2lxQ1f9N89ZT"
   },
   "outputs": [],
   "source": [
    "# PostgreSQL 연결\n",
    "conn = psycopg2.connect(connection_info)\n",
    "\n",
    "try:\n",
    "    # 테이블을 Pandas.Dataframe으로 추출\n",
    "    df = pd.read_sql('SELECT * FROM researchers ORDER BY rid ',conn)\n",
    "    print(df.head())\n",
    "\n",
    "except psycopg2.Error as e:\n",
    "    # 데이터베이스 에러 처리\n",
    "    print(\"DB error: \", e)\n",
    "    \n",
    "finally:\n",
    "    # 데이터베이스 연결 해제 필수!!\n",
    "    conn.close()"
   ]
  },
  {
   "cell_type": "markdown",
   "metadata": {
    "id": "26wwIeJ--CZF"
   },
   "source": [
    "아래 코드를 실행하여 다시 원래 값으로 업데이트합니다."
   ]
  },
  {
   "cell_type": "code",
   "execution_count": null,
   "metadata": {
    "id": "ETMIKes182Cg"
   },
   "outputs": [],
   "source": [
    "# PostgreSQL 연결\n",
    "conn = psycopg2.connect(connection_info)\n",
    "\n",
    "try:\n",
    "    # 커서(Cursor) 생성\n",
    "    # 커서: 명령문(SQL) 실행, 결과의 현재 위치 표시\n",
    "    cursor = conn.cursor()\n",
    "    \n",
    "    # 값 변경 쿼리\n",
    "    cursor.execute(\"UPDATE public.researchers set lab = 'YUHL' WHERE rid = 1;\")\n",
    "    \n",
    "    # 트랜잭션 커밋 - 데이터베이스에 업데이트를 반영\n",
    "    conn.commit()\n",
    "\n",
    "except psycopg2.Error as e:\n",
    "    # 데이터베이스 에러 처리\n",
    "    print(\"DB error: \", e)\n",
    "    # 롤백- 최근 커밋 이후의 transaction들을 모두 취소\n",
    "    conn.rollback()\n",
    "    \n",
    "finally:\n",
    "    # 데이터베이스 연결 해제 필수!!\n",
    "    conn.close()"
   ]
  },
  {
   "cell_type": "markdown",
   "metadata": {
    "id": "k0wpZ3R96jLu"
   },
   "source": [
    "## Neo4j Server 연결 실습\n",
    "\n",
    "Neo4j driver가 지원하는 기능이 많지 않아서 사실 Neo4j Browser에서 Cypher 쿼리를 돌리는 것이 더 낫습니다.\n",
    "\n",
    "하지만 데이터 Flow를 자동화하는 상황에서 아래 코드들을 사용할 수 있겠습니다."
   ]
  },
  {
   "cell_type": "code",
   "execution_count": null,
   "metadata": {
    "id": "PUyP5YZ6-sTH"
   },
   "outputs": [],
   "source": [
    "# neo4j 패키지 설치\n",
    "!pip install neo4j"
   ]
  },
  {
   "cell_type": "code",
   "execution_count": null,
   "metadata": {
    "id": "mig9tHa0-SGr"
   },
   "outputs": [],
   "source": [
    "# neo4j 드라이버 import 및 함수 정의\n",
    "from neo4j import GraphDatabase\n",
    "\n",
    "class Neo4jConnection:\n",
    "    \n",
    "    def __init__(self, uri, user, pwd):\n",
    "        self.__uri = uri\n",
    "        self.__user = user\n",
    "        self.__pwd = pwd\n",
    "        self.__driver = None\n",
    "        try:\n",
    "            self.__driver = GraphDatabase.driver(self.__uri, auth=(self.__user, self.__pwd))\n",
    "        except Exception as e:\n",
    "            print(\"Failed to create the driver:\", e)\n",
    "        \n",
    "    def close(self):\n",
    "        if self.__driver is not None:\n",
    "            self.__driver.close()\n",
    "        \n",
    "    def query(self, query, db=None):\n",
    "        assert self.__driver is not None, \"Driver not initialized!\"\n",
    "        session = None\n",
    "        response = None\n",
    "        try: \n",
    "            session = self.__driver.session(database=db) if db is not None else self.__driver.session() \n",
    "            response = list(session.run(query))\n",
    "        except Exception as e:\n",
    "            print(\"Query failed:\", e)\n",
    "        finally: \n",
    "            if session is not None:\n",
    "                session.close()\n",
    "        return response"
   ]
  },
  {
   "cell_type": "markdown",
   "metadata": {
    "id": "u9gxfy97--0O"
   },
   "source": [
    "아래 코드에 Neo4j 연결 정보를 설정해주세요."
   ]
  },
  {
   "cell_type": "code",
   "execution_count": null,
   "metadata": {
    "id": "OnbthGm2-p9u"
   },
   "outputs": [],
   "source": [
    "dbname = \"팀 DB이름\"\n",
    "uri_param = \"bolt://147.47.200.145:37687\"\n",
    "user_param = \"팀username\"\n",
    "pwd_param = \"팀비밀번호\""
   ]
  },
  {
   "cell_type": "markdown",
   "metadata": {
    "id": "nMDLz--rA3bu"
   },
   "source": [
    "아래 쿼리를 통해 연결을 테스트해봅니다."
   ]
  },
  {
   "cell_type": "code",
   "execution_count": null,
   "metadata": {
    "id": "HLq2TJKd_TeW"
   },
   "outputs": [],
   "source": [
    "# Neo4j 연결\n",
    "conn = Neo4jConnection(uri=uri_param, user=user_param, pwd=pwd_param)\n",
    "\n",
    "# Cypher 쿼리 입력\n",
    "cypher = 'MATCH (n) return n'\n",
    "\n",
    "# Cypher 쿼리 실행 후 결과를 response에 저장\n",
    "response = conn.query(cypher, db=dbname)\n",
    "\n",
    "# 연결 종료 필수!\n",
    "conn.close()"
   ]
  },
  {
   "cell_type": "markdown",
   "metadata": {
    "id": "UjX1Ehx2Bb8A"
   },
   "source": [
    "결과 확인 (현재 그래프가 비어있으므로 [ ] 가 나와야 합니다.)"
   ]
  },
  {
   "cell_type": "code",
   "execution_count": null,
   "metadata": {
    "id": "Gl93m1gvBWzi"
   },
   "outputs": [],
   "source": [
    "response"
   ]
  },
  {
   "cell_type": "markdown",
   "metadata": {
    "id": "Jlzc11HzA6s8"
   },
   "source": [
    "Neo4j와 PostgreSQL이 같은 서버에 설치되어 있으므로, APOC를 사용하여 데이터를 불러올 때 아래와 같이 localhost로 접속하면됩니다."
   ]
  },
  {
   "cell_type": "markdown",
   "metadata": {
    "id": "gorM0-XvCheV"
   },
   "source": [
    "우선, 아래 코드에 PostgreSQL 연결 정보를 입력해주세요."
   ]
  },
  {
   "cell_type": "code",
   "execution_count": null,
   "metadata": {
    "id": "3m97jjKECgpT"
   },
   "outputs": [],
   "source": [
    "apoc_string = 'CALL apoc.load.jdbc(\"jdbc:postgresql://localhost:34543/<DB이름>?user=<유저명>&password=<PostgreSQL 비밀번호>\",'"
   ]
  },
  {
   "cell_type": "markdown",
   "metadata": {
    "id": "kg4dnZPRLf-M"
   },
   "source": [
    "아래 세 코드를 사용해 Academic Database를 Neo4j에 import합니다."
   ]
  },
  {
   "cell_type": "code",
   "execution_count": null,
   "metadata": {
    "id": "HG7P8l2UCXv1"
   },
   "outputs": [],
   "source": [
    "# Neo4j 연결\n",
    "conn = Neo4jConnection(uri=uri_param, user=user_param, pwd=pwd_param)\n",
    "\n",
    "# Cypher 쿼리 입력\n",
    "cypher = apoc_string + '\"researchers\") YIELD row MERGE (r:Researcher {rid: toInteger(row.rid), rname:row.rname}) MERGE (l:Lab {name:row.lab}) MERGE (r)-[rel:BELONGSTO]->(l) RETURN count(r)'\n",
    "\n",
    "# Cypher 쿼리 실행 후 결과를 print\n",
    "print(conn.query(cypher, db=dbname))\n",
    "\n",
    "# 연결 종료 필수!\n",
    "conn.close()"
   ]
  },
  {
   "cell_type": "code",
   "execution_count": null,
   "metadata": {
    "id": "k1_FZaxEIzsM"
   },
   "outputs": [],
   "source": [
    "# Neo4j 연결\n",
    "conn = Neo4jConnection(uri=uri_param, user=user_param, pwd=pwd_param)\n",
    "\n",
    "# Cypher 쿼리 입력\n",
    "cypher = apoc_string + '\"papers\") YIELD row MERGE (p:Paper {pid: toInteger(row.pid), title:row.title, pyear:toInteger(row.pyear), citations:toInteger(row.citations)}) return count(p)'\n",
    "\n",
    "# Cypher 쿼리 실행 후 결과를 print\n",
    "print(conn.query(cypher, db=dbname))\n",
    "\n",
    "# 연결 종료 필수!\n",
    "conn.close()"
   ]
  },
  {
   "cell_type": "code",
   "execution_count": null,
   "metadata": {
    "id": "pPf8Ckk5Iz4E"
   },
   "outputs": [],
   "source": [
    "# Neo4j 연결\n",
    "conn = Neo4jConnection(uri=uri_param, user=user_param, pwd=pwd_param)\n",
    "\n",
    "# Cypher 쿼리 입력\n",
    "cypher = apoc_string + '\"wrote\") YIELD row MATCH (r:Researcher {rid: toInteger(row.rid)}) MATCH (p:Paper {pid: toInteger(row.pid)}) MERGE (r)-[w:WROTE {author_seq:toInteger(row.author_seq)}]->(p) return count(w)'\n",
    "\n",
    "# Cypher 쿼리 실행 후 결과를 print\n",
    "print(conn.query(cypher, db=dbname))\n",
    "\n",
    "# 연결 종료 필수!\n",
    "conn.close()"
   ]
  },
  {
   "cell_type": "markdown",
   "metadata": {
    "id": "GzWx0ceoLo0X"
   },
   "source": [
    "아래 코드를 실행하여 쿼리 결과를 Python으로 확인합니다."
   ]
  },
  {
   "cell_type": "code",
   "execution_count": null,
   "metadata": {
    "id": "8ePg1acULeqV"
   },
   "outputs": [],
   "source": [
    "# Neo4j 연결\n",
    "conn = Neo4jConnection(uri=uri_param, user=user_param, pwd=pwd_param)\n",
    "\n",
    "# Cypher 쿼리 입력\n",
    "cypher = 'MATCH (n) RETURN n LIMIT 25'\n",
    "\n",
    "# Cypher 쿼리 실행 후 결과를 print\n",
    "print(conn.query(cypher, db=dbname))\n",
    "\n",
    "# 연결 종료 필수!\n",
    "conn.close()"
   ]
  }
 ],
 "metadata": {
  "colab": {
   "provenance": [],
   "toc_visible": true
  },
  "kernelspec": {
   "display_name": "Python 3 (ipykernel)",
   "language": "python",
   "name": "python3"
  },
  "language_info": {
   "codemirror_mode": {
    "name": "ipython",
    "version": 3
   },
   "file_extension": ".py",
   "mimetype": "text/x-python",
   "name": "python",
   "nbconvert_exporter": "python",
   "pygments_lexer": "ipython3",
   "version": "3.8.16"
  }
 },
 "nbformat": 4,
 "nbformat_minor": 1
}
